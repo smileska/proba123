{
 "cells": [
  {
   "cell_type": "code",
   "id": "initial_id",
   "metadata": {
    "collapsed": true,
    "ExecuteTime": {
     "end_time": "2024-11-06T19:18:45.585093Z",
     "start_time": "2024-11-06T19:18:45.222562Z"
    }
   },
   "source": [
    "import requests\n",
    "from bs4 import BeautifulSoup\n",
    "\n",
    "def get_issuer_codes():\n",
    "    url = 'https://www.mse.mk/mk/stats/symbolhistory/REPL'  # Replace with actual URL if different\n",
    "    response = requests.get(url)\n",
    "    soup = BeautifulSoup(response.text, 'html.parser')\n",
    "\n",
    "    issuers = []\n",
    "    # Assuming issuer codes are within a <select> dropdown in the HTML\n",
    "    for option in soup.select('select#issuer-dropdown option'):\n",
    "        code = option.get('value')\n",
    "        if code and not code.isdigit():  # Skip numeric-only codes\n",
    "            issuers.append(code)\n",
    "    return issuers\n",
    "\n",
    "# Test the function\n",
    "issuer_codes = get_issuer_codes()\n",
    "print(\"Issuer codes:\", issuer_codes)\n"
   ],
   "outputs": [
    {
     "name": "stdout",
     "output_type": "stream",
     "text": [
      "Issuer codes: []\n"
     ]
    }
   ],
   "execution_count": 10
  },
  {
   "metadata": {
    "ExecuteTime": {
     "end_time": "2024-11-06T19:25:35.381871Z",
     "start_time": "2024-11-06T19:25:35.375603Z"
    }
   },
   "cell_type": "code",
   "source": [
    "from selenium.webdriver.support.ui import Select\n",
    "from datetime import datetime\n",
    "\n",
    "def change_company_code(driver, company):\n",
    "    \"\"\"Selects the company code in the dropdown menu on the webpage.\"\"\"\n",
    "    code_dropdown = Select(driver.find_element(By.ID, 'Code'))\n",
    "    code_dropdown.select_by_value(company)\n",
    "\n",
    "    # Set the ToDate input field to the current date\n",
    "    input_to = driver.find_element(By.ID, 'ToDate')\n",
    "    input_to.clear()\n",
    "    input_to.send_keys(transform_date_to_string(datetime.now()))\n"
   ],
   "id": "5de6d83748a4a7f9",
   "outputs": [],
   "execution_count": 14
  },
  {
   "metadata": {
    "ExecuteTime": {
     "end_time": "2024-11-06T19:24:37.974066Z",
     "start_time": "2024-11-06T19:24:37.969511Z"
    }
   },
   "cell_type": "code",
   "source": [
    "from abc import ABC, abstractmethod\n",
    "\n",
    "class Filter(ABC):\n",
    "    @abstractmethod\n",
    "    async def process(self, driver, data):\n",
    "        \"\"\"Process method to be implemented by each filter subclass.\"\"\"\n",
    "        pass\n"
   ],
   "id": "f30969455663a898",
   "outputs": [],
   "execution_count": 11
  },
  {
   "metadata": {
    "ExecuteTime": {
     "end_time": "2024-11-06T19:24:47.366095Z",
     "start_time": "2024-11-06T19:24:47.359830Z"
    }
   },
   "cell_type": "code",
   "source": [
    "import re\n",
    "from bs4 import BeautifulSoup\n",
    "from selenium.webdriver.common.by import By\n",
    "\n",
    "class CodeDownloaderFilter(Filter):\n",
    "    async def process(self, driver, date):\n",
    "        print(\"Filter 1 starting...\")\n",
    "        html = driver.page_source\n",
    "        soup = BeautifulSoup(html, 'html.parser')\n",
    "        options = soup.find(id='Code').find_all('option')\n",
    "        \n",
    "        for option in options:\n",
    "            if not re.search(r'\\d', option.text):\n",
    "                date.append(option.text.strip())\n",
    "                \n",
    "        return driver, date[:5]  # Limit the output to 5 companies as in the example\n"
   ],
   "id": "1aa1700b241e3bf9",
   "outputs": [],
   "execution_count": 12
  },
  {
   "metadata": {
    "ExecuteTime": {
     "end_time": "2024-11-06T19:24:52.800647Z",
     "start_time": "2024-11-06T19:24:52.784494Z"
    }
   },
   "cell_type": "code",
   "source": [
    "import os\n",
    "import pandas as pd\n",
    "from datetime import datetime, timedelta\n",
    "\n",
    "class SaveDataFilter(Filter):\n",
    "    async def process(self, driver, data):\n",
    "        print(\"Filter 2 starting...\")\n",
    "        dates = {}\n",
    "\n",
    "        for company in data:\n",
    "            print(f\"Processing company: {company}\")\n",
    "            await change_company_code(driver, company)\n",
    "            await change_input_values(driver, datetime.now())\n",
    "            \n",
    "            if check_existing_data(company):\n",
    "                last_date = await self.get_last_date(company)\n",
    "                dates[company] = last_date\n",
    "                print(f\"Last date in database for {company}: {last_date}\")\n",
    "            else:\n",
    "                dates[company] = transform_date_to_string(datetime.now())\n",
    "                await self.save_last_10_years(driver, company)\n",
    "                \n",
    "        return driver, dates\n",
    "\n",
    "    async def get_last_date(self, company_name):\n",
    "        path = os.path.join('..', 'database', f'{company_name}.xlsx')\n",
    "        if os.path.exists(path):\n",
    "            df = pd.read_excel(path)\n",
    "            return df.iloc[0, 0]  # Assuming date is in the first column\n",
    "        return transform_date_to_string(datetime.now())\n",
    "\n",
    "    async def save_last_10_years(self, driver, company_name):\n",
    "        for i in range(10):\n",
    "            await self.change_date(driver, i)\n",
    "            await click_button(driver)\n",
    "            time.sleep(3)\n",
    "            df = await get_df(driver)\n",
    "            output_path = os.path.join('..', 'database', f'{company_name}.xlsx')\n",
    "            \n",
    "            if os.path.exists(output_path):\n",
    "                existing_df = pd.read_excel(output_path)\n",
    "                df = pd.concat([existing_df, df], ignore_index=True)\n",
    "                \n",
    "            df.to_excel(output_path, index=False)\n",
    "\n",
    "    async def change_date(self, driver, year_offset):\n",
    "        input_from = driver.find_element(By.ID, 'FromDate')\n",
    "        input_to = driver.find_element(By.ID, 'ToDate')\n",
    "\n",
    "        end_date = datetime.now() - timedelta(days=year_offset * 365)\n",
    "        start_date = end_date - timedelta(days=365)\n",
    "\n",
    "        input_from.clear()\n",
    "        input_from.send_keys(transform_date_to_string(start_date))\n",
    "        input_to.clear()\n",
    "        input_to.send_keys(transform_date_to_string(end_date))\n"
   ],
   "id": "1ef4d5c512238052",
   "outputs": [],
   "execution_count": 13
  },
  {
   "metadata": {},
   "cell_type": "code",
   "outputs": [],
   "execution_count": null,
   "source": "",
   "id": "dc8780c9cbebc2e"
  }
 ],
 "metadata": {
  "kernelspec": {
   "display_name": "Python 3",
   "language": "python",
   "name": "python3"
  },
  "language_info": {
   "codemirror_mode": {
    "name": "ipython",
    "version": 2
   },
   "file_extension": ".py",
   "mimetype": "text/x-python",
   "name": "python",
   "nbconvert_exporter": "python",
   "pygments_lexer": "ipython2",
   "version": "2.7.6"
  }
 },
 "nbformat": 4,
 "nbformat_minor": 5
}
